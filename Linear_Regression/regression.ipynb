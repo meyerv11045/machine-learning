{
  "cells": [
    {
      "cell_type": "markdown",
      "metadata": {},
      "source": [
        "Linear regression can be used to predict continues values. The below example is for uber pricing with the distance traveled as the x data and the price of the ride as the y data."
      ]
    },
    {
      "cell_type": "code",
      "execution_count": 1,
      "metadata": {
        "colab": {
          "base_uri": "https://localhost:8080/"
        },
        "id": "ACiZYcWF9ryt",
        "outputId": "4395b4bd-9437-49f9-a8b3-3bd9d86ad3e8"
      },
      "outputs": [
        {
          "data": {
            "text/plain": [
              "LinearRegression()"
            ]
          },
          "execution_count": 1,
          "metadata": {},
          "output_type": "execute_result"
        }
      ],
      "source": [
        "import numpy as np\n",
        "from sklearn.linear_model import LinearRegression\n",
        "\n",
        "dist = [9, 1.4, 15, 73, 0.5, 9.1, 12, 5.8, 4.1] # miles\n",
        "fare = [8.82, 8.09, 30, 81.4, 7.61, 19.91, 27.96, 26.96, 10.96] # $\n",
        "\n",
        "x = np.asarray(dist).reshape((-1,1))\n",
        "y = np.asarray(fare)\n",
        " \n",
        "model = LinearRegression(fit_intercept=True, copy_X=True)\n",
        "model.fit(x,y)"
      ]
    },
    {
      "cell_type": "code",
      "execution_count": 2,
      "metadata": {
        "colab": {
          "base_uri": "https://localhost:8080/"
        },
        "id": "IQ2Is01N-3Co",
        "outputId": "6239d76b-10cc-41b4-bc9e-c96c709e441a"
      },
      "outputs": [
        {
          "name": "stdout",
          "output_type": "stream",
          "text": [
            "intercept:  10.32573065351679\n",
            "slope:  [0.99136585]\n"
          ]
        }
      ],
      "source": [
        "print('intercept: ', model.intercept_)\n",
        "print('slope: ', model.coef_)"
      ]
    },
    {
      "cell_type": "markdown",
      "metadata": {
        "id": "Af59frF__U7P"
      },
      "source": [
        "Model for Linear Regression: $h(x) = \\theta_0 + \\theta_1 x $\n",
        "In this example of uber pricing data, the resulting $\\theta_0 = 10.3$ and $\\theta_1 = 0.99$ "
      ]
    },
    {
      "cell_type": "code",
      "execution_count": 3,
      "metadata": {
        "colab": {
          "base_uri": "https://localhost:8080/",
          "height": 265
        },
        "id": "ssi_OXm9AmL4",
        "outputId": "1f51e441-bee6-4888-c721-059d5278f9d7"
      },
      "outputs": [
        {
          "data": {
            "image/png": "[encoded data removed]",
            "text/plain": [
              "<Figure size 432x288 with 1 Axes>"
            ]
          },
          "metadata": {
            "needs_background": "light"
          },
          "output_type": "display_data"
        }
      ],
      "source": [
        "import matplotlib.pyplot as plt\n",
        "%matplotlib inline\n",
        "\n",
        "plt.scatter(x,y)\n",
        "\n",
        "xfit = np.linspace(0,100,1000)\n",
        "\n",
        "yfit = model.predict(xfit.reshape((-1,1)))\n",
        "\n",
        "plt.plot(xfit, yfit)\n",
        "plt.show()"
      ]
    },
    {
      "cell_type": "markdown",
      "metadata": {
        "id": "KDVf08e_B9Dz"
      },
      "source": [
        "# Linear Regression of Single Variable\n",
        "\n",
        "Below we define the sum of squares cost function (note: $2m$ in denominator to simplfy the derivative whem optimizing).\n",
        "$$J(\\theta) = \\frac{1}{2m} \\sum_{i=1}^m (h_\\theta(x^{(i)}) - y^{(i)})^2 $$\n",
        "\n",
        "The quadratic nature of the cost function above means the cost surface is convex and thus has a global minimum.\n",
        "\n",
        "$$ \\theta^* = argmin_\\theta J(\\theta) $$ \n",
        "\n",
        "$$h_\\theta(x) = \\theta_0 + \\theta_1 x$$\n",
        "\n",
        "Use an optimization technique to solve for the optimal parameters $\\theta^*$, then you can make predictions for new inputs $x$ using $h_{\\theta^*}(x)$.\n",
        "\n",
        "# Gradient Descent\n",
        "An iterative optimization technique for finding the optimal parameters $\\theta^*$ of the cost function. \n",
        "\n",
        "The learning rate/factor $\\alpha$ controls how big of a step to take towards the optimal parameters. Below is the least mean squares update rule. the magnitude of the update is proportional to the error term. meaning if the prediction nearly matches the target, then the parameters are changed very little.\n",
        "\n",
        "$$\\theta_0 := \\theta_0 - \\alpha \\frac{\\partial J(\\theta)}{\\partial \\theta_0} $$\n",
        "\n",
        "$$\\theta_1 := \\theta_1 - \\alpha \\frac{\\partial J(\\theta)}{\\partial \\theta_1} $$\n",
        "\n",
        "Run the above update steps until it converges. We define convergence as when $ \\lvert \\frac{\\partial J(\\theta}{\\partial \\theta_k} \\rvert < ϵ$ where $ϵ$ is small. We monitor convergence by plotting the loss function and ensuring it goes down.\n",
        "\n",
        "We can write the update steps using vector notation: \n",
        "\n",
        "$$\\bar\\theta := \\bar\\theta - \\alpha \\nabla_\\theta J(\\bar\\theta) $$\n",
        "\n",
        "Works well on convex cost surfaces but performs poorly when the cost function results in a non-convex cost surface.\n",
        "\n",
        "$$\\frac{\\partial J}{\\partial \\theta_0} =  \\frac{1}{m} \\sum (h_\\theta(x^{(i)}) -  y^{(i)})$$\n",
        "\n",
        "$$\\frac{\\partial J}{\\partial \\theta_1} =  \\frac{1}{m} \\sum (h_\\theta(x^{(i)}) -  y^{(i)})x^{(i)}$$\n",
        "\n",
        "Generalized: $\\frac{\\partial J}{\\partial \\theta_j} =  \\frac{1}{m} \\sum (h_\\theta(x^{(i)}) -  y^{(i)})x_j^{(i)}$\n",
        "\n"
      ]
    },
    {
      "cell_type": "markdown",
      "metadata": {},
      "source": [
        "## Normal Equations\n",
        "We can vectorize the above equations:\n",
        "\n",
        "$h_\\theta(\\bar{x}) = \\bar \\theta^T \\bar x $ where $\\bar x = [1 , x_1]$ and $\\bar \\theta = [\\theta_0, \\theta_1]$\n"
      ]
    },
    {
      "cell_type": "markdown",
      "metadata": {
        "id": "5GcntKhGI9QK"
      },
      "source": [
        "# Learning Rate Experiments\n",
        "\n",
        "$$J(\\theta) = (\\theta_0 - 5)^2 + 10 $$\n",
        "$$\\frac{\\partial J(\\theta)}{\\partial \\theta_0} = 2\\theta_0 - 10$$\n",
        "\n",
        "The experiments run below demonstrate that $\\alpha = 1$ is bad and things never converge. Takeaway: learning rate plays a critical role in the convergence of gradient descent to the optimal parameters"
      ]
    },
    {
      "cell_type": "markdown",
      "metadata": {
        "id": "y8jyW2NbLOjL"
      },
      "source": [
        "Summary:\n",
        "Today i saw the connection between machine learning and optimization techniques being learned in Math 4630. The optimization techniques form the basis of finding the optimal parameters in many ML methods. These curve fitting applications in data science/ML are basically just optimization problems."
      ]
    },
    {
      "cell_type": "code",
      "execution_count": 5,
      "metadata": {
        "colab": {
          "base_uri": "https://localhost:8080/"
        },
        "id": "m5iilXhRExJY",
        "outputId": "3b8a8a5c-dbd0-4506-b0b9-5389d12898b7"
      },
      "outputs": [
        {
          "name": "stdout",
          "output_type": "stream",
          "text": [
            "initial theta: 1 \t final theta: 1 \t iterations: 0 \t alpha: 1\n",
            "-------------------\n",
            "initial theta: 1 \t final theta: 1 \t iterations: 0 \t alpha: 0.5\n",
            "-------------------\n",
            "initial theta: 1 \t final theta: 1 \t iterations: 0 \t alpha: 0.4\n",
            "-------------------\n",
            "initial theta: 1 \t final theta: 1 \t iterations: 0 \t alpha: 0.1\n",
            "-------------------\n",
            "initial theta: 1 \t final theta: 1 \t iterations: 0 \t alpha: 0.01\n",
            "-------------------\n",
            "initial theta: 2 \t final theta: 2 \t iterations: 0 \t alpha: 1\n",
            "-------------------\n",
            "initial theta: 2 \t final theta: 2 \t iterations: 0 \t alpha: 0.5\n",
            "-------------------\n",
            "initial theta: 2 \t final theta: 2 \t iterations: 0 \t alpha: 0.4\n",
            "-------------------\n",
            "initial theta: 2 \t final theta: 2 \t iterations: 0 \t alpha: 0.1\n",
            "-------------------\n",
            "initial theta: 2 \t final theta: 2 \t iterations: 0 \t alpha: 0.01\n",
            "-------------------\n",
            "initial theta: 7 \t final theta: 3 \t iterations: 1 \t alpha: 1\n",
            "-------------------\n",
            "initial theta: 7 \t final theta: 5.0 \t iterations: 1 \t alpha: 0.5\n",
            "-------------------\n",
            "initial theta: 7 \t final theta: 5.0032 \t iterations: 4 \t alpha: 0.4\n",
            "-------------------\n",
            "initial theta: 7 \t final theta: 5.009444732965739 \t iterations: 24 \t alpha: 0.1\n",
            "-------------------\n",
            "initial theta: 7 \t final theta: 5.265239111789508 \t iterations: 100 \t alpha: 0.01\n",
            "-------------------\n",
            "initial theta: 8 \t final theta: 2 \t iterations: 1 \t alpha: 1\n",
            "-------------------\n",
            "initial theta: 8 \t final theta: 5.0 \t iterations: 1 \t alpha: 0.5\n",
            "-------------------\n",
            "initial theta: 8 \t final theta: 5.0048 \t iterations: 4 \t alpha: 0.4\n",
            "-------------------\n",
            "initial theta: 8 \t final theta: 5.00906694364711 \t iterations: 26 \t alpha: 0.1\n",
            "-------------------\n",
            "initial theta: 8 \t final theta: 5.397858667684258 \t iterations: 100 \t alpha: 0.01\n",
            "-------------------\n",
            "initial theta: 25 \t final theta: -15 \t iterations: 1 \t alpha: 1\n",
            "-------------------\n",
            "initial theta: 25 \t final theta: 5.0 \t iterations: 1 \t alpha: 0.5\n",
            "-------------------\n",
            "initial theta: 25 \t final theta: 5.0064 \t iterations: 5 \t alpha: 0.4\n",
            "-------------------\n",
            "initial theta: 25 \t final theta: 5.0081129638414605 \t iterations: 35 \t alpha: 0.1\n",
            "-------------------\n",
            "initial theta: 25 \t final theta: 7.652391117895066 \t iterations: 100 \t alpha: 0.01\n",
            "-------------------\n"
          ]
        }
      ],
      "source": [
        "thetas = [1, 2, 7, 8, 25]\n",
        "alphas = [1, 0.5, 0.4, 0.1, 0.01]\n",
        "iters = 50\n",
        "\n",
        "for t in thetas:\n",
        "  for alpha in alphas:\n",
        "    theta = t\n",
        "    iters = 0\n",
        "    while theta - 5.0 > 1e-2 and iters < 100:\n",
        "      theta -= alpha * (2* theta - 10)\n",
        "      iters += 1\n",
        "    \n",
        "    print(f'initial theta: {t} \\t final theta: {theta} \\t iterations: {iters} \\t alpha: {alpha}' )\n",
        "    print('-------------------') "
      ]
    },
    {
      "cell_type": "markdown",
      "metadata": {},
      "source": [
        "# Linear Regression of Multiple Variables\n",
        "Remember to use $x_0 = 1$ to make the vector multiplication work\n",
        "\n",
        "$$h_\\theta(\\bar x) = \\theta_0 x_0 + \\theta_1 x_ 1 + ... + \\theta_n x_n = \\bar \\theta^T \\bar x$$\n",
        "\n",
        "$$J(\\bar \\theta) = \\frac{1}{2m} \\sum_{i=1}^m (\\bar \\theta^T \\bar x^{(i)} - y^{(i)})^2 $$\n",
        "\n",
        "We can find the optimal parameters by minimizing the cost function using gradient descent or we can use the closed form solution by setting the gradient of the cost function equal to zero and solving the system of equations.\n",
        "\n",
        "\n",
        "## Closed Form Solution\n",
        "Set the gradient of the cost function equal to zero and solve the system of equations:\n",
        "\n",
        "$$\\nabla_\\theta J = \\bar 0$$\n",
        "\n",
        "We use a $m$ by $n$ design matrix containing all our features for the training dataset:\n",
        "\n",
        "$X = \\begin{bmatrix}\n",
        "\\bar x ^{(1)T} \\\\\n",
        "\\bar x ^{(2)T} \\\\\n",
        "\\vdots \\\\\n",
        "\\bar x ^{(m)T}\n",
        "\\end{bmatrix}$ which is $m$ x $n$\n",
        "\n",
        "We also use a $m$ by $1$ matrix containing all our targets for the training dataset:\n",
        "\n",
        "$\\bar \\y = \\begin{bmatrix}\n",
        "\\bar y^{(1)} \\\\\n",
        "\\bar y ^{(2)} \\\\\n",
        "\\vdots \\\\\n",
        "\\bar y ^{(m)}\n",
        "\\end{bmatrix}$\n",
        "\n",
        "\n",
        "Finally we want to find the optimal parameters $\\bar \\theta^*$ which is an $n + 1$ x $1$ matrix \n",
        "\n",
        "Note: $\\bar \\theta^T \\bar x = \\bar x^T \\bar \\theta$ \n",
        "\n",
        "$$J(\\bar \\theta) = (X\\bar\\theta - \\bar y) = \\bar z$$\n",
        "\n",
        "$$\\bar z^T \\bar z = \\sum_i^m(z^{(i)})^2$$\n",
        "\n",
        "The above is a nice way to write sum of squares in matrix form\n",
        "\n",
        "$$J(\\bar \\theta) = \\frac{1}{2m} (X\\bar\\theta - \\bar y)^T (X\\bar\\theta - \\bar y) $$\n",
        "\n",
        "$$\\nabla_\\theta J(\\theta) = X^TX \\bar \\theta - X^Ty$$\n",
        "\n",
        "so if we set the above equal to $\\bar 0$ and solve, we can get:\n",
        "\n",
        "$$\\bar \\theta^* = (X^T X)^{-1}X^Ty$$\n",
        "\n",
        "Inverting the matrix (pseudo or normal) is $O(n^3)$ so sometimes gradient descent is faster.\n"
      ]
    },
    {
      "cell_type": "markdown",
      "metadata": {},
      "source": [
        "# Gradient Descent Methods\n",
        "A training epoch is one cycle through the entire dataset.\n",
        "\n",
        "## Batch\n",
        "Computes the cost for the entire dataset and only then updates the model parameters for each epoch.\n",
        "\n",
        "Performs model update at end of a training epoch.\n",
        "\n",
        "### Pros\n",
        "- Can parallelize the calculation of errors over the dataset and bring the results together to perform one model update\n",
        "- \n",
        "\n",
        "### Cons\n",
        "- Can get stuck in a local minumum (converges too soon) that is not the global min\n",
        "- Often implemented such that the entire dataset must be able to fit into memory\n",
        "- Slow training speed on large datasets due to the computational expense of using the entire dataset for each iteration\n",
        "\n",
        "## Stochastic\n",
        "Computes the cost for only a single sample at each epoch. \n",
        "\n",
        "Should be used for large datasets becuase it converges quickly after sampling only a small amount of the dataset, from which a batch or mini-batch technique can then be used to get finer \n",
        "tuned optimal parameters. \n",
        "\n",
        "\n",
        "## Stuff\n",
        "If dataset is small, batch is always good\n",
        "If dataset is large, batch will always converge but is costly/slow.\n",
        "\n",
        "If dataset is small, stochastic is usually good but can be noisy and move off optimal local min due to noise in the updates from variations in the training samples at each step. \n",
        "If dataset is large, stochastic is good for getting and estimate since it makes early progress\n",
        "\n",
        "For all datasets, stochastic gradient descent will have osciallations whereas bath will be fixed at the optimum. "
      ]
    }
  ],
  "metadata": {
    "colab": {
      "collapsed_sections": [],
      "name": "Regression.ipynb",
      "provenance": []
    },
    "kernelspec": {
      "display_name": "Python 3",
      "name": "python3"
    },
    "language_info": {
      "codemirror_mode": {
        "name": "ipython",
        "version": 3
      },
      "file_extension": ".py",
      "mimetype": "text/x-python",
      "name": "python",
      "nbconvert_exporter": "python",
      "pygments_lexer": "ipython3",
      "version": "3.8.2"
    }
  },
  "nbformat": 4,
  "nbformat_minor": 0
}
